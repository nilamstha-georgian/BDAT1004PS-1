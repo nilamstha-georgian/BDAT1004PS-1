{
 "cells": [
  {
   "cell_type": "code",
   "execution_count": 1,
   "id": "8a9125f3",
   "metadata": {},
   "outputs": [],
   "source": [
    "# Question 1 \n",
    "# What data type is each of the following (evaluate where necessary)? \n",
    "\n",
    "# 5 - Integer\n",
    "# 5.0 – Float\n",
    "# 5 > 1 -Boolean\n",
    "# '5' - String\n",
    "# 5 * 2 - Integer\n",
    "# '5' * 2 -String\n",
    "# '5' + '2' - String\n",
    "# 5 / 2 - Float\n",
    "# 5 % 2 - Integer\n",
    "# {5, 2, 1} - Set\n",
    "# 5 == 3 - Boolean\n",
    "# Pi (the number) – Float\n"
   ]
  },
  {
   "cell_type": "code",
   "execution_count": 2,
   "id": "323f4617",
   "metadata": {},
   "outputs": [
    {
     "name": "stdout",
     "output_type": "stream",
     "text": [
      "34\n"
     ]
    }
   ],
   "source": [
    "# Question 2\n",
    "# Write (and evaluate) python expressions that answer these questions: \n",
    "\n",
    "# a.How many letters are there in 'Supercalifragilisticexpialidocious'?\n",
    "\n",
    "word = 'Supercalifragilisticexpialidocious'\n",
    "n_letters = len(word)\n",
    "print(n_letters)\n"
   ]
  },
  {
   "cell_type": "code",
   "execution_count": 3,
   "id": "3ea4b941",
   "metadata": {},
   "outputs": [
    {
     "name": "stdout",
     "output_type": "stream",
     "text": [
      "True\n"
     ]
    }
   ],
   "source": [
    "#  b. Does 'Supercalifragilisticexpialidocious' contain 'ice' as a substring? \n",
    "\n",
    "word = 'Supercalifragilisticexpialidocious'\n",
    "substring = 'ice'\n",
    "c_ice = substring in word\n",
    "print(c_ice)"
   ]
  },
  {
   "cell_type": "code",
   "execution_count": 4,
   "id": "11c320b4",
   "metadata": {},
   "outputs": [
    {
     "name": "stdout",
     "output_type": "stream",
     "text": [
      "Supercalifragilisticexpialidocious\n"
     ]
    }
   ],
   "source": [
    "# c. Which of the following words is the longest: Supercalifragilisticexpialidocious, Honorificabilitudinitatibus, or Bababadalgharaghtakamminarronnkonn?\n",
    "\n",
    "words = ['Supercalifragilisticexpialidocious', 'Honorificabilitudinitatibus', 'Bababadalgharaghtakamminarronnkonn']\n",
    "l_word = max(words, key=len)\n",
    "print(l_word)"
   ]
  },
  {
   "cell_type": "code",
   "execution_count": 5,
   "id": "e1a67329",
   "metadata": {},
   "outputs": [
    {
     "name": "stdout",
     "output_type": "stream",
     "text": [
      "Berlioz\n"
     ]
    }
   ],
   "source": [
    "#  d. Which composer comes first in the dictionary: 'Berlioz', 'Borodin', 'Br\n",
    "\n",
    "composers = ['Berlioz', 'Borodin', 'Bruckner', 'Brahms', 'Br']\n",
    "f_composer = min(composers)\n",
    "print(f_composer)"
   ]
  },
  {
   "cell_type": "code",
   "execution_count": 8,
   "id": "7cb834f6",
   "metadata": {},
   "outputs": [
    {
     "name": "stdout",
     "output_type": "stream",
     "text": [
      "1.7320508075688772\n"
     ]
    }
   ],
   "source": [
    "# Question 3 Implement function triangleArea(a,b,c) that takes as input the lengths of the 3 sides of a triangle and returns the area of the triangle. By Heron's formula, the area of a triangle with side lengths a, b, and c is s(s - a)(s -b)(s -c) , where s = (a+b+c)/2.\n",
    "# >>> triangleArea (2,2,2)\n",
    "# 1.7320508075688772\n",
    "\n",
    "import math\n",
    "\n",
    "def triangleArea(a, b, c):\n",
    "    # Calculating the semi-perimeter (s)\n",
    "    s = (a + b + c) / 2\n",
    "    \n",
    "    # Calculating the area using Heron's formula\n",
    "    area = math.sqrt(s * (s - a) * (s - b) * (s - c))\n",
    "    \n",
    "    return area\n",
    "\n",
    "    area = triangleArea(2, 2, 2)\n",
    "    print(area)"
   ]
  },
  {
   "cell_type": "code",
   "execution_count": 40,
   "id": "97108645",
   "metadata": {},
   "outputs": [
    {
     "name": "stdout",
     "output_type": "stream",
     "text": [
      "Enter the numbers separated by comma 2,2,4,5\n",
      "Even numbers are: [2, 2, 4]\n",
      "Odd numbers are: [5]\n"
     ]
    }
   ],
   "source": [
    "# Question 4 Write a program in python to separate odd and even integers in separate arrays. Go to the editor Test Data :\n",
    "# Input the number of elements to be stored in the array :5 \n",
    "# Input 5 elements in the array : \n",
    "# element - 0 : 25\n",
    "# element - 1 : 47 \n",
    "# element - 2 : 42\n",
    "# element - 3 : 56 \n",
    "# element - 4 : 32 \n",
    "# Expected Output: \n",
    "# The Even elements are: 42 56 32 \n",
    "# The Odd elements are : 25 47\n",
    "\n",
    "even_num = []\n",
    "odd_num = []\n",
    "\n",
    "list_of_num =  input(\"Enter the numbers separated by comma \").split(',')\n",
    "\n",
    "# Input the list of integers\n",
    "numbers = [int(x) for x in list_of_num]\n",
    "\n",
    "# Separate even and odd numbers\n",
    "for num in numbers:\n",
    "    if num % 2 == 0:\n",
    "        even_num.append(num)\n",
    "    else:\n",
    "        odd_num.append(num)\n",
    "\n",
    "print(\"Even numbers are:\", even_num)\n",
    "print(\"Odd numbers are:\", odd_num)\n"
   ]
  },
  {
   "cell_type": "code",
   "execution_count": 9,
   "id": "9007cab7",
   "metadata": {},
   "outputs": [
    {
     "name": "stdout",
     "output_type": "stream",
     "text": [
      "True\n",
      "False\n"
     ]
    }
   ],
   "source": [
    "# Question 5 \n",
    "# a.\tWrite a function inside(x,y,x1,y1,x2,y2) that returns True or False depending on whether the point (x,y) lies in the rectangle with lower left corner (x1,y1) and upper right corner (x2,y2). >>> inside(1,1,0,0,2,3) >>> inside(-1,-1,0,0,2,3) False\n",
    "\n",
    "\n",
    "def inside(x, y, x1, y1, x2, y2):\n",
    "    # Check if (x, y) is within the rectangle's bounds\n",
    "    if x1 <= x <= x2 and y1 <= y <= y2:\n",
    "        return True\n",
    "    else:\n",
    "        return False\n",
    "\n",
    "result_1 = inside(1, 1, 0, 0, 2, 3)\n",
    "result_2 = inside(-1, -1, 0, 0, 2, 3)\n",
    "\n",
    "print(result_1)  # True\n",
    "print(result_2) # False"
   ]
  },
  {
   "cell_type": "code",
   "execution_count": 10,
   "id": "808c04b0",
   "metadata": {},
   "outputs": [
    {
     "name": "stdout",
     "output_type": "stream",
     "text": [
      "The point (1, 1) is not inside both rectangles.\n"
     ]
    }
   ],
   "source": [
    "# b.Use function inside() from part a. to write an expression that tests whether the point (1,1) lies in both of the following rectangles: one with lower left corner (0.3, 0.5) and upper right corner (1.1, 0.7) and the other with lower left corner (0.5, 0.2) and upper right corner (1.1, 2).\n",
    "\n",
    "# Define the coordinates of the point (1, 1)\n",
    "x = 1\n",
    "y = 1\n",
    "\n",
    "# Define the coordinates of the two rectangles\n",
    "rect_1 = (0.3, 0.5, 1.1, 0.7)  # (x1, y1, x2, y2) for the first rectangle\n",
    "rect_2 = (0.5, 0.2, 1.1, 2.0)  # (x1, y1, x2, y2) for the second rectangle\n",
    "\n",
    "# Test if the point (1, 1) is inside both rectangles\n",
    "result_1 = inside(x, y, rect_1[0], rect_1[1], rect_1[2], rect_1[3])\n",
    "result_2 = inside(x, y, rect_2[0], rect_2[1], rect_2[2], rect_2[3])\n",
    "\n",
    "# Check if the point is inside both rectangles\n",
    "if result1 and result2:\n",
    "    print(\"The point (1, 1) is inside both rectangles.\")\n",
    "else:\n",
    "    print(\"The point (1, 1) is not inside both rectangles.\")\n"
   ]
  },
  {
   "cell_type": "code",
   "execution_count": 41,
   "id": "9eaa1657",
   "metadata": {},
   "outputs": [],
   "source": [
    "# Question 6\n",
    "# You can turn a word into pig-Latin using the following two rules (simplified):\n",
    "# • If the word starts with a consonant, move that letter to the end and append\n",
    "# 'ay'. For example, 'happy' becomes 'appyhay' and 'pencil' becomes 'encilpay'.\n",
    "# • If the word starts with a vowel, simply append 'way' to the end of the word.\n",
    "# For example, 'enter' becomes 'enterway' and 'other' becomes 'otherway' . For\n",
    "# our purposes, there are 5 vowels: a, e, i, o, u (so we count y as a consonant).\n",
    "# Write a function pig() that takes a word (i.e., a string) as input and returns its pigLatin form. Your function should still work if the input word contains upper case\n",
    "# characters. Your output should always be lower case however.\n",
    "# >>> pig('happy')\n",
    "# 'appyhay'\n",
    "# >>> pig('Enter')\n",
    "# 'enterway' \n",
    "\n",
    "def pig(word):\n",
    "    # Convert the word to lowercase\n",
    "    word = word.lower()\n",
    "\n",
    "    # Set of vowels\n",
    "    vowels = {'a', 'e', 'i', 'o', 'u'}\n",
    "\n",
    "    # Check if the word starts with a consonant or a vowel\n",
    "    if word[0] in vowels:\n",
    "        # If it starts with a vowel, simply append 'way'\n",
    "        pig_latin = word + 'way'\n",
    "    else:\n",
    "        # If it starts with a consonant, move the consonant to the end and append 'ay'\n",
    "        pig_latin= word[1:] + word[0] + 'ay'\n",
    "\n",
    "    return pig_latin\n"
   ]
  },
  {
   "cell_type": "code",
   "execution_count": 37,
   "id": "8350077f",
   "metadata": {},
   "outputs": [
    {
     "name": "stdout",
     "output_type": "stream",
     "text": [
      "appyhay\n"
     ]
    }
   ],
   "source": [
    "print(pig('happy'))  # Output: 'appyhay'"
   ]
  },
  {
   "cell_type": "code",
   "execution_count": 38,
   "id": "43be443b",
   "metadata": {},
   "outputs": [
    {
     "name": "stdout",
     "output_type": "stream",
     "text": [
      "enterway\n"
     ]
    }
   ],
   "source": [
    "print(pig('Enter'))  # Output: 'enterway'"
   ]
  },
  {
   "cell_type": "code",
   "execution_count": 49,
   "id": "af151100",
   "metadata": {},
   "outputs": [],
   "source": [
    "# Question 7 File bloodtype1.txt records blood-types of patients (A, B, AB, O or OO) at a clinic. \n",
    "# Write a function bldcount() that reads the file with name name and reports (i.e., prints) how many patients there are in each bloodtype.\n",
    "# >>> bldcount('bloodtype.txt') \n",
    "#There are 10 patients of blood type A. \n",
    "# There is one patient of blood type B. \n",
    "# There are 10 patients of blood type AB. \n",
    "# There are 12 patients of blood type O. \n",
    "# There are no patients of blood type OO.\n",
    "\n",
    "\n",
    "def bldcount(file_path):\n",
    "    blood_type_counts = {}\n",
    "    with open(file_path, 'r') as file:\n",
    "\n",
    "        for line in file:\n",
    "            blood_type = line.split()\n",
    "            for blood_group in blood_type:\n",
    "\n",
    "                if blood_group in blood_type_counts:\n",
    "                    blood_type_counts[blood_group] = blood_type_counts[blood_group] + 1\n",
    "                else:\n",
    "                    blood_type_counts[blood_group] = 1\n",
    "    for key,values in  blood_type_counts.items():\n",
    "        print(f\"There are {values} patients of blood type {key}.\")\n",
    "        "
   ]
  },
  {
   "cell_type": "code",
   "execution_count": 75,
   "id": "08a0878b",
   "metadata": {},
   "outputs": [
    {
     "name": "stdout",
     "output_type": "stream",
     "text": [
      "There are 13 patients of blood type AB.\n",
      "There are 1 patients of blood type B.\n",
      "There are 15 patients of blood type O.\n",
      "There are 15 patients of blood type A.\n"
     ]
    }
   ],
   "source": [
    "file_path = \"C:/Users/User/Downloads/bloodtype1.txt\" \n",
    "bldcount(file_path)"
   ]
  },
  {
   "cell_type": "code",
   "execution_count": 72,
   "id": "6b5d9574",
   "metadata": {},
   "outputs": [],
   "source": [
    "# Question 8 Write a function curconv() that takes as input: \n",
    "# 1. a currency represented using a string (e.g., 'JPY' for the Japanese Yen or 'EUR' for the Euro)\n",
    "# 2. an amount and then converts and returns the amount in US dollars. \n",
    "# >>> curconv('EUR', 100) 122.96544 >>> curconv('JPY', 100) 1.241401 \n",
    "# The currency rates you will need are stored in file currencies.txt: \n",
    "\n",
    "file_path = \"C:/Users/User/Downloads/currencies.txt\"\n",
    "file_details = {}\n",
    "with open(file_path, 'r') as file:\n",
    "    for line in file:\n",
    "        cur_details = line.split('\\t')\n",
    "        key=cur_details[0]\n",
    "        values=cur_details[1:]\n",
    "        file_details[key]=values\n",
    "        \n",
    "def curconv(curr,amount):\n",
    "    print(float(file_details[curr][0])*amount)      \n"
   ]
  },
  {
   "cell_type": "code",
   "execution_count": 56,
   "id": "9c61a236",
   "metadata": {
    "scrolled": true
   },
   "outputs": [
    {
     "name": "stdout",
     "output_type": "stream",
     "text": [
      "122.96544\n"
     ]
    }
   ],
   "source": [
    "curconv('EUR', 100)"
   ]
  },
  {
   "cell_type": "code",
   "execution_count": 43,
   "id": "a1b612e1",
   "metadata": {},
   "outputs": [
    {
     "name": "stdout",
     "output_type": "stream",
     "text": [
      "1.241401\n"
     ]
    }
   ],
   "source": [
    "curconv('JPY', 100)"
   ]
  },
  {
   "cell_type": "code",
   "execution_count": 34,
   "id": "e0155326",
   "metadata": {},
   "outputs": [],
   "source": [
    "# Question 9\n",
    "# Each of the following will cause an exception (an error).\n",
    "# Identify what type of exception each will cause.\n",
    "# Trying to add incompatible variables, as in adding 6 + ‘a’ - TypeError\n",
    "# Referring to the 12th item of a list that has only 10 items - IndexError\n",
    "# Using a value that is out of range for a function’s input, such as calling math.sqrt(-1.0) - ValueError\n",
    "# Using an undeclared variable, such as print(x) when x has not been defined -NameError\n",
    "# Trying to open a file that does not exist, such as mistyping the file name or looking in the wrong directory. - FileNotFoundError\n",
    "\n"
   ]
  },
  {
   "cell_type": "code",
   "execution_count": 15,
   "id": "8d0bdf25",
   "metadata": {},
   "outputs": [
    {
     "name": "stdout",
     "output_type": "stream",
     "text": [
      "[1, 1, 1, 3, 5, 1, 1, 2, 1, 0, 1, 0, 1, 2, 4, 0, 1, 2, 0, 3, 1, 0, 1, 1, 0, 0]\n"
     ]
    }
   ],
   "source": [
    "# Question 10\n",
    "# Encryption is the process of hiding the meaning of a text by substituting letters in the message with other letters, according to some system.\n",
    "#If the process is successful, no one but the intended recipient can understand the encrypted message.\n",
    "# Cryptanalysis refers to attempts to undo the encryption, even if some details of the encryption are unknown (for example, if an encrypted message has been intercepted). \n",
    "# The first step of cryptanalysis is often to build up a table of letter frequencies in the encrypted text.\n",
    "# Assume that the string letters is already defined as'abcdefghijklmnopqrstuvwxyz'.\n",
    "# Write a function called frequencies() that takes a string as its only parameter, and returns a list of integers, showing the number of times each character appears in the text.\n",
    "# Your function may ignore anycharacters that are not in letters.\n",
    "# >>> frequencies('The quick red fox got bored and went home.')\n",
    "# [1, 1, 1, 3, 5, 1, 1, 2, 1, 0, 1, 0, 1, 2, 4, 0, 1, 2, 0, 2,1, 0, 1, 1, 0, 0]\n",
    "# >>> frequencies('apple')\n",
    "\n",
    "def frequencies(text):\n",
    "    # Initialize a list to store the frequencies, initially filled with zeros\n",
    "    letter_frequencies = [0] * 26\n",
    "\n",
    "    # Define the lowercase letters\n",
    "    letters = 'abcdefghijklmnopqrstuvwxyz'\n",
    "\n",
    "    # Convert the input text to lowercase\n",
    "    text = text.lower()\n",
    "\n",
    "    # Iterate through the characters in the text\n",
    "    for char in text:\n",
    "        if char in letters:\n",
    "            # Increment the corresponding frequency counter\n",
    "            index = letters.index(char)\n",
    "            letter_frequencies[index] += 1\n",
    "\n",
    "    return letter_frequencies\n",
    "\n",
    "result = frequencies('The quick red fox got bored and went home.')\n",
    "print(result)\n"
   ]
  }
 ],
 "metadata": {
  "kernelspec": {
   "display_name": "Python 3 (ipykernel)",
   "language": "python",
   "name": "python3"
  },
  "language_info": {
   "codemirror_mode": {
    "name": "ipython",
    "version": 3
   },
   "file_extension": ".py",
   "mimetype": "text/x-python",
   "name": "python",
   "nbconvert_exporter": "python",
   "pygments_lexer": "ipython3",
   "version": "3.11.4"
  }
 },
 "nbformat": 4,
 "nbformat_minor": 5
}
